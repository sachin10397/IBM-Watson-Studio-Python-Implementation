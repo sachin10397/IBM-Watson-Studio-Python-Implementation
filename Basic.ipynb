{
 "cells": [
  {
   "cell_type": "code",
   "execution_count": 2,
   "metadata": {},
   "outputs": [],
   "source": [
    "# \"apikey\": \"wEwbJROcU8ew3KpRnnDHvt5JiygtqTqyZwbRvNMP53Ri\",\n",
    "#      \"iam_apikey_description\": \"Auto-generated for key 0fea7c5b-244b-4ed5-97b1-606da7523b1a\",\n",
    " #     \"iam_apikey_name\": \"wdp-writer\",\n",
    "  #    \"iam_role_crn\": \"crn:v1:bluemix:public:iam::::serviceRole:Writer\",\n",
    "   #   \"iam_serviceid_crn\": \"crn:v1:bluemix:public:iam-identity::a/8fa653f4bbaa4f7d82aae03901bda39f::serviceid:ServiceId-0f265797-1a24-4fcd-ba40-c82adb57b9c2\",\n",
    "    #  \"url\": \"https://api.us-south.visual-recognition.watson.cloud.ibm.com/instances/302c7a6b-fef2-4e7c-8bd0-b84544162b41\","
   ]
  },
  {
   "cell_type": "code",
   "execution_count": 3,
   "metadata": {
    "scrolled": true
   },
   "outputs": [
    {
     "name": "stdout",
     "output_type": "stream",
     "text": [
      "Collecting watson-developer-cloud>=2.4.1\n",
      "  Downloading https://files.pythonhosted.org/packages/fc/a5/a89fc49bd82eb6ea569e45b43383c28cd51b5076f43010dcc3331c137ff5/watson-developer-cloud-2.10.1.tar.gz (248kB)\n",
      "Requirement already satisfied, skipping upgrade: requests<3.0,>=2.0 in c:\\users\\sachi\\anaconda3\\lib\\site-packages (from watson-developer-cloud>=2.4.1) (2.22.0)\n",
      "Requirement already satisfied, skipping upgrade: python_dateutil>=2.5.3 in c:\\users\\sachi\\anaconda3\\lib\\site-packages (from watson-developer-cloud>=2.4.1) (2.8.0)\n",
      "Collecting websocket-client==0.48.0 (from watson-developer-cloud>=2.4.1)\n",
      "  Downloading https://files.pythonhosted.org/packages/8a/a1/72ef9aa26cfe1a75cee09fc1957e4723add9de098c15719416a1ee89386b/websocket_client-0.48.0-py2.py3-none-any.whl (198kB)\n",
      "Requirement already satisfied, skipping upgrade: chardet<3.1.0,>=3.0.2 in c:\\users\\sachi\\anaconda3\\lib\\site-packages (from requests<3.0,>=2.0->watson-developer-cloud>=2.4.1) (3.0.4)\n",
      "Requirement already satisfied, skipping upgrade: idna<2.9,>=2.5 in c:\\users\\sachi\\anaconda3\\lib\\site-packages (from requests<3.0,>=2.0->watson-developer-cloud>=2.4.1) (2.8)\n",
      "Requirement already satisfied, skipping upgrade: urllib3!=1.25.0,!=1.25.1,<1.26,>=1.21.1 in c:\\users\\sachi\\anaconda3\\lib\\site-packages (from requests<3.0,>=2.0->watson-developer-cloud>=2.4.1) (1.24.2)\n",
      "Requirement already satisfied, skipping upgrade: certifi>=2017.4.17 in c:\\users\\sachi\\anaconda3\\lib\\site-packages (from requests<3.0,>=2.0->watson-developer-cloud>=2.4.1) (2019.6.16)\n",
      "Requirement already satisfied, skipping upgrade: six>=1.5 in c:\\users\\sachi\\anaconda3\\lib\\site-packages (from python_dateutil>=2.5.3->watson-developer-cloud>=2.4.1) (1.12.0)\n",
      "Building wheels for collected packages: watson-developer-cloud\n",
      "  Building wheel for watson-developer-cloud (setup.py): started\n",
      "  Building wheel for watson-developer-cloud (setup.py): finished with status 'done'\n",
      "  Stored in directory: C:\\Users\\sachi\\AppData\\Local\\pip\\Cache\\wheels\\ea\\a7\\19\\fac0a408a586265eb374005308a7553d4494ab41b2fd88f5bc\n",
      "Successfully built watson-developer-cloud\n",
      "Installing collected packages: websocket-client, watson-developer-cloud\n",
      "Successfully installed watson-developer-cloud-2.10.1 websocket-client-0.48.0\n",
      "Note: you may need to restart the kernel to use updated packages.\n"
     ]
    }
   ],
   "source": [
    "pip install --upgrade \"watson-developer-cloud>=2.4.1\""
   ]
  },
  {
   "cell_type": "code",
   "execution_count": 1,
   "metadata": {},
   "outputs": [
    {
     "name": "stdout",
     "output_type": "stream",
     "text": [
      "Collecting json\n",
      "Note: you may need to restart the kernel to use updated packages.\n"
     ]
    },
    {
     "name": "stderr",
     "output_type": "stream",
     "text": [
      "  ERROR: Could not find a version that satisfies the requirement json (from versions: none)\n",
      "ERROR: No matching distribution found for json\n"
     ]
    }
   ],
   "source": [
    "pip install json"
   ]
  },
  {
   "cell_type": "code",
   "execution_count": 9,
   "metadata": {},
   "outputs": [
    {
     "name": "stderr",
     "output_type": "stream",
     "text": [
      "C:\\Users\\sachi\\Anaconda3\\lib\\site-packages\\ipykernel_launcher.py:5: DeprecationWarning: watson-developer-cloud moved to ibm-watson. To get updates, use the new package.\n",
      "  \"\"\"\n"
     ]
    }
   ],
   "source": [
    "from watson_developer_cloud import VisualRecognitionV3\n",
    "import watson_developer_cloud\n",
    "\n",
    "visual_recognition = VisualRecognitionV3('2018-03-19',\n",
    "    iam_apikey= 'Enter Your API'\n",
    ")"
   ]
  },
  {
   "cell_type": "code",
   "execution_count": 18,
   "metadata": {},
   "outputs": [
    {
     "name": "stdout",
     "output_type": "stream",
     "text": [
      " Volume in drive C is OS\n",
      " Volume Serial Number is 0C66-B8DA\n",
      "\n",
      " Directory of C:\\Users\\sachi\\Desktop\\Sachin\\Projects\\IBM Watson Visual Recognition\n",
      "\n",
      "07/04/2020  12:12 PM    <DIR>          .\n",
      "07/04/2020  12:12 PM    <DIR>          ..\n",
      "07/04/2020  11:36 AM    <DIR>          .ipynb_checkpoints\n",
      "24/10/2019  02:02 PM         1,075,414 123.jpeg\n",
      "24/10/2019  02:05 PM           307,446 car.jpg\n",
      "07/04/2020  12:11 PM            59,484 fish.jpg\n",
      "07/04/2020  12:10 PM             6,584 Untitled.ipynb\n",
      "               4 File(s)      1,448,928 bytes\n",
      "               3 Dir(s)  59,813,343,232 bytes free\n"
     ]
    }
   ],
   "source": [
    "ls"
   ]
  },
  {
   "cell_type": "code",
   "execution_count": 26,
   "metadata": {},
   "outputs": [
    {
     "name": "stderr",
     "output_type": "stream",
     "text": [
      "C:\\Users\\sachi\\Anaconda3\\lib\\site-packages\\ipykernel_launcher.py:5: DeprecationWarning: watson-developer-cloud moved to ibm-watson. To get updates, use the new package.\n",
      "  \"\"\"\n"
     ]
    },
    {
     "name": "stdout",
     "output_type": "stream",
     "text": [
      "{\n",
      "  \"images\": [\n",
      "    {\n",
      "      \"classifiers\": [\n",
      "        {\n",
      "          \"classifier_id\": \"default\",\n",
      "          \"name\": \"default\",\n",
      "          \"classes\": [\n",
      "            {\n",
      "              \"class\": \"Parking Lot\",\n",
      "              \"score\": 0.895\n",
      "            },\n",
      "            {\n",
      "              \"class\": \"road\",\n",
      "              \"score\": 0.794\n",
      "            },\n",
      "            {\n",
      "              \"class\": \"car\",\n",
      "              \"score\": 0.796\n",
      "            },\n",
      "            {\n",
      "              \"class\": \"vehicle\",\n",
      "              \"score\": 0.798\n",
      "            },\n",
      "            {\n",
      "              \"class\": \"gray color\",\n",
      "              \"score\": 0.944\n",
      "            },\n",
      "            {\n",
      "              \"class\": \"ash grey color\",\n",
      "              \"score\": 0.696\n",
      "            }\n",
      "          ]\n",
      "        }\n",
      "      ],\n",
      "      \"image\": \"123.jpeg\"\n",
      "    }\n",
      "  ],\n",
      "  \"images_processed\": 1,\n",
      "  \"custom_classes\": 0\n",
      "}\n"
     ]
    }
   ],
   "source": [
    "import json\n",
    "from watson_developer_cloud import VisualRecognitionV3\n",
    "\n",
    "visual_recognition = VisualRecognitionV3('2018-03-19',\n",
    "    iam_apikey= 't7romwWidVFFMkgEWeBEK9PL2bfF5QwphmI2mX4jSA7m'\n",
    ")\n",
    "\n",
    "with open('./123.jpeg', 'rb') as images_file:\n",
    "    classes = visual_recognition.classify(\n",
    "        images_file,\n",
    "        threshold='0.6',\n",
    "\tclassifier_ids='default').get_result()\n",
    "print(json.dumps(classes, indent=2))"
   ]
  },
  {
   "cell_type": "code",
   "execution_count": null,
   "metadata": {},
   "outputs": [],
   "source": []
  },
  {
   "cell_type": "code",
   "execution_count": null,
   "metadata": {},
   "outputs": [],
   "source": []
  },
  {
   "cell_type": "code",
   "execution_count": null,
   "metadata": {},
   "outputs": [],
   "source": []
  }
 ],
 "metadata": {
  "kernelspec": {
   "display_name": "Python 3",
   "language": "python",
   "name": "python3"
  },
  "language_info": {
   "codemirror_mode": {
    "name": "ipython",
    "version": 3
   },
   "file_extension": ".py",
   "mimetype": "text/x-python",
   "name": "python",
   "nbconvert_exporter": "python",
   "pygments_lexer": "ipython3",
   "version": "3.7.3"
  }
 },
 "nbformat": 4,
 "nbformat_minor": 2
}
